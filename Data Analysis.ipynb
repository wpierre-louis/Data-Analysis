{
 "cells": [
  {
   "cell_type": "markdown",
   "metadata": {},
   "source": [
    "# Data Analysis with National Hospital Data \n",
    "\n",
    "Welcome! This ipython notebook will take you through the basics of data analysis in application to national hospital data. With this data visualization the hope is to reflect patterns both good and bad in healthcare and see why do some trends, or lack thereof, exist. From this information, professionals in the healthcare field can account for these shortcomings and brainstorm new solutions for better patient care. \n",
    "\n",
    "URL: https://codeburst.io/maternal-death-during-childbirth-big-data-visualization-56b4901d1caf\n"
   ]
  },
  {
   "cell_type": "code",
   "execution_count": null,
   "metadata": {},
   "outputs": [],
   "source": [
    "#below are the packages that are imported for this analysis process"
   ]
  },
  {
   "cell_type": "code",
   "execution_count": null,
   "metadata": {},
   "outputs": [],
   "source": [
    "import pandas as pd "
   ]
  },
  {
   "cell_type": "code",
   "execution_count": null,
   "metadata": {},
   "outputs": [],
   "source": [
    "from matplotlab import pyplot as plt "
   ]
  }
 ],
 "metadata": {
  "kernelspec": {
   "display_name": "Python 3",
   "language": "python",
   "name": "python3"
  },
  "language_info": {
   "codemirror_mode": {
    "name": "ipython",
    "version": 3
   },
   "file_extension": ".py",
   "mimetype": "text/x-python",
   "name": "python",
   "nbconvert_exporter": "python",
   "pygments_lexer": "ipython3",
   "version": "3.7.1"
  }
 },
 "nbformat": 4,
 "nbformat_minor": 2
}
